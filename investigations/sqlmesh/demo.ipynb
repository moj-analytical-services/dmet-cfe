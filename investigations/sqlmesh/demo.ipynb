{
 "cells": [
  {
   "cell_type": "markdown",
   "metadata": {},
   "source": [
    "# Intro\n",
    "\n",
    "This notebook is largely based on these [instructions](https://sqlmesh.readthedocs.io/en/stable/quickstart/notebook/) where you can find installation instructions."
   ]
  },
  {
   "cell_type": "code",
   "execution_count": null,
   "metadata": {},
   "outputs": [],
   "source": [
    "import sqlmesh"
   ]
  },
  {
   "cell_type": "code",
   "execution_count": 2,
   "metadata": {},
   "outputs": [
    {
     "data": {
      "text/html": [
       "<div><span style=\"color: green; font-weight: bold\">SQLMesh project scaffold created</span></div>"
      ],
      "text/plain": []
     },
     "metadata": {},
     "output_type": "display_data"
    }
   ],
   "source": [
    "%init . duckdb"
   ]
  },
  {
   "cell_type": "code",
   "execution_count": 2,
   "metadata": {},
   "outputs": [
    {
     "data": {
      "text/html": [
       "<pre style=\"white-space:pre;overflow-x:auto;line-height:normal;font-family:Menlo,'DejaVu Sans Mono',consolas,'Courier New',monospace\">\n",
       "<span style=\"color: #008000; text-decoration-color: #008000\">SQLMesh project context set to: .</span>\n",
       "\n",
       "</pre>\n"
      ],
      "text/plain": [
       "\n",
       "\u001b[32mSQLMesh project context set to: .\u001b[0m\n",
       "\n"
      ]
     },
     "metadata": {},
     "output_type": "display_data"
    }
   ],
   "source": [
    "%context ."
   ]
  },
  {
   "cell_type": "code",
   "execution_count": 4,
   "metadata": {},
   "outputs": [
    {
     "data": {
      "text/html": [
       "<div>\n",
       "<style scoped>\n",
       "    .dataframe tbody tr th:only-of-type {\n",
       "        vertical-align: middle;\n",
       "    }\n",
       "\n",
       "    .dataframe tbody tr th {\n",
       "        vertical-align: top;\n",
       "    }\n",
       "\n",
       "    .dataframe thead th {\n",
       "        text-align: right;\n",
       "    }\n",
       "</style>\n",
       "<table border=\"1\" class=\"dataframe\">\n",
       "  <thead>\n",
       "    <tr style=\"text-align: right;\">\n",
       "      <th></th>\n",
       "      <th>database</th>\n",
       "      <th>schema</th>\n",
       "      <th>name</th>\n",
       "      <th>column_names</th>\n",
       "      <th>column_types</th>\n",
       "      <th>temporary</th>\n",
       "    </tr>\n",
       "  </thead>\n",
       "  <tbody>\n",
       "  </tbody>\n",
       "</table>\n",
       "</div>"
      ],
      "text/plain": [
       "Empty DataFrame\n",
       "Columns: [database, schema, name, column_names, column_types, temporary]\n",
       "Index: []"
      ]
     },
     "metadata": {},
     "output_type": "display_data"
    }
   ],
   "source": [
    "%%fetchdf\n",
    "\n",
    "SHOW ALL TABLES;"
   ]
  },
  {
   "cell_type": "code",
   "execution_count": 15,
   "metadata": {},
   "outputs": [
    {
     "data": {
      "text/plain": [
       "┌──────────┬──────────────────────┬──────────────────────┬──────────────────────┬──────────────────────────┬───────────┐\n",
       "│ database │        schema        │         name         │     column_names     │       column_types       │ temporary │\n",
       "│ varchar  │       varchar        │       varchar        │      varchar[]       │        varchar[]         │  boolean  │\n",
       "├──────────┼──────────────────────┼──────────────────────┼──────────────────────┼──────────────────────────┼───────────┤\n",
       "│ db       │ sqlmesh              │ _environments        │ [name, snapshots, …  │ [VARCHAR, VARCHAR, VAR…  │ false     │\n",
       "│ db       │ sqlmesh              │ _intervals           │ [id, created_ts, n…  │ [VARCHAR, BIGINT, VARC…  │ false     │\n",
       "│ db       │ sqlmesh              │ _plan_dags           │ [request_id, dag_i…  │ [VARCHAR, VARCHAR, VAR…  │ false     │\n",
       "│ db       │ sqlmesh              │ _seeds               │ [name, version, co…  │ [VARCHAR, VARCHAR, VAR…  │ false     │\n",
       "│ db       │ sqlmesh              │ _snapshots           │ [name, identifier,…  │ [VARCHAR, VARCHAR, VAR…  │ false     │\n",
       "│ db       │ sqlmesh              │ _versions            │ [schema_version, s…  │ [INTEGER, VARCHAR, VAR…  │ false     │\n",
       "│ db       │ sqlmesh__sqlmesh_e…  │ sqlmesh_example__f…  │ [item_id, num_orde…  │ [INTEGER, BIGINT]        │ false     │\n",
       "│ db       │ sqlmesh__sqlmesh_e…  │ sqlmesh_example__f…  │ [item_id, num_orde…  │ [INTEGER, BIGINT]        │ false     │\n",
       "│ db       │ sqlmesh__sqlmesh_e…  │ sqlmesh_example__i…  │ [id, item_id, even…  │ [INTEGER, INTEGER, DATE] │ false     │\n",
       "│ db       │ sqlmesh__sqlmesh_e…  │ sqlmesh_example__i…  │ [id, item_id, even…  │ [INTEGER, INTEGER, DATE] │ false     │\n",
       "│ db       │ sqlmesh__sqlmesh_e…  │ sqlmesh_example__s…  │ [id, item_id, even…  │ [INTEGER, INTEGER, DATE] │ false     │\n",
       "│ db       │ sqlmesh__sqlmesh_e…  │ sqlmesh_example__s…  │ [id, item_id, even…  │ [INTEGER, INTEGER, DATE] │ false     │\n",
       "│ db       │ sqlmesh_example      │ full_model           │ [item_id, num_orde…  │ [INTEGER, BIGINT]        │ false     │\n",
       "│ db       │ sqlmesh_example      │ incremental_model    │ [id, item_id, even…  │ [INTEGER, INTEGER, DATE] │ false     │\n",
       "│ db       │ sqlmesh_example      │ seed_model           │ [id, item_id, even…  │ [INTEGER, INTEGER, DATE] │ false     │\n",
       "├──────────┴──────────────────────┴──────────────────────┴──────────────────────┴──────────────────────────┴───────────┤\n",
       "│ 15 rows                                                                                                    6 columns │\n",
       "└──────────────────────────────────────────────────────────────────────────────────────────────────────────────────────┘"
      ]
     },
     "execution_count": 15,
     "metadata": {},
     "output_type": "execute_result"
    }
   ],
   "source": [
    "import duckdb\n",
    "\n",
    "con = duckdb.connect(\"db.db\")\n",
    "\n",
    "con.sql(\"SHOW ALL TABLES;\")\n"
   ]
  },
  {
   "cell_type": "code",
   "execution_count": 10,
   "metadata": {},
   "outputs": [
    {
     "data": {
      "text/html": [
       "<div>\n",
       "  <div id=\"sqlglot-lineage\"></div>\n",
       "  <script type=\"text/javascript\" src=\"https://unpkg.com/vis-data@latest/peer/umd/vis-data.min.js\"></script>\n",
       "  <script type=\"text/javascript\" src=\"https://unpkg.com/vis-network@latest/peer/umd/vis-network.min.js\"></script>\n",
       "  <link rel=\"stylesheet\" type=\"text/css\" href=\"https://unpkg.com/vis-network/styles/vis-network.min.css\" />\n",
       "  <script type=\"text/javascript\">\n",
       "    var nodes = new vis.DataSet([{\"id\": \"\\\"db\\\".\\\"sqlmesh_example\\\".\\\"seed_model\\\"\", \"label\": \"\\\"seed_model\\\"\", \"title\": \"<span>\\\"db\\\".\\\"sqlmesh_example\\\".\\\"seed_model\\\"</span>\"}, {\"id\": \"\\\"db\\\".\\\"sqlmesh_example\\\".\\\"full_model\\\"\", \"label\": \"\\\"full_model\\\"\", \"title\": \"<span>\\\"db\\\".\\\"sqlmesh_example\\\".\\\"full_model\\\"</span>\"}, {\"id\": \"\\\"db\\\".\\\"sqlmesh_example\\\".\\\"incremental_model\\\"\", \"label\": \"\\\"incremental_model\\\"\", \"title\": \"<span>\\\"db\\\".\\\"sqlmesh_example\\\".\\\"incremental_model\\\"</span>\"}, {\"id\": \"\\\"db\\\".\\\"sqlmesh_example\\\".\\\"from_python\\\"\", \"label\": \"\\\"from_python\\\"\", \"title\": \"<span>\\\"db\\\".\\\"sqlmesh_example\\\".\\\"from_python\\\"</span>\"}, {\"id\": \"\\\"db\\\".\\\"sqlmesh_example\\\".\\\"from_sql\\\"\", \"label\": \"\\\"from_sql\\\"\", \"title\": \"<span>\\\"db\\\".\\\"sqlmesh_example\\\".\\\"from_sql\\\"</span>\"}])\n",
       "    nodes.forEach(row => row[\"title\"] = new DOMParser().parseFromString(row[\"title\"], \"text/html\").body.childNodes[0])\n",
       "\n",
       "    new vis.Network(\n",
       "        document.getElementById(\"sqlglot-lineage\"),\n",
       "        {\n",
       "            nodes: nodes,\n",
       "            edges: new vis.DataSet([{\"from\": \"\\\"db\\\".\\\"sqlmesh_example\\\".\\\"incremental_model\\\"\", \"to\": \"\\\"db\\\".\\\"sqlmesh_example\\\".\\\"full_model\\\"\"}, {\"from\": \"\\\"db\\\".\\\"sqlmesh_example\\\".\\\"seed_model\\\"\", \"to\": \"\\\"db\\\".\\\"sqlmesh_example\\\".\\\"incremental_model\\\"\"}, {\"from\": \"\\\"db\\\".\\\"sqlmesh_example\\\".\\\"from_sql\\\"\", \"to\": \"\\\"db\\\".\\\"sqlmesh_example\\\".\\\"from_python\\\"\"}, {\"from\": \"\\\"db\\\".\\\"sqlmesh_example\\\".\\\"seed_model\\\"\", \"to\": \"\\\"db\\\".\\\"sqlmesh_example\\\".\\\"from_sql\\\"\"}])\n",
       "        },\n",
       "        {\"height\": \"100%\", \"width\": \"100%\", \"layout\": {\"hierarchical\": {\"enabled\": true, \"nodeSpacing\": 200, \"sortMethod\": \"directed\"}}, \"interaction\": {}, \"physics\": {\"enabled\": false}, \"edges\": {\"arrows\": \"to\"}, \"nodes\": {\"shape\": \"box\"}},\n",
       "    )\n",
       "  </script>\n",
       "</div>"
      ],
      "text/plain": [
       "<sqlglot.lineage.GraphHTML at 0x109365210>"
      ]
     },
     "metadata": {},
     "output_type": "display_data"
    }
   ],
   "source": [
    "%dag --file dag.html"
   ]
  },
  {
   "cell_type": "code",
   "execution_count": 6,
   "metadata": {},
   "outputs": [
    {
     "data": {
      "application/vnd.jupyter.widget-view+json": {
       "model_id": "bc6703773ed74156882fb7856924e22e",
       "version_major": 2,
       "version_minor": 0
      },
      "text/plain": [
       "HTML(value='<span style=\"font-size: 11px; font-weight: bold; font-family: Menlo,\\'DejaVu Sans Mono\\',consolas,…"
      ]
     },
     "metadata": {},
     "output_type": "display_data"
    },
    {
     "data": {
      "text/html": [
       "<pre style=\"white-space:pre;overflow-x:auto;line-height:normal;font-family:Menlo,'DejaVu Sans Mono',consolas,'Courier New',monospace\"><span style=\"font-weight: bold\">New environment `prod` will be created from `prod`</span>\n",
       "</pre>\n"
      ],
      "text/plain": [
       "\u001b[1mNew environment `prod` will be created from `prod`\u001b[0m\n"
      ]
     },
     "metadata": {},
     "output_type": "display_data"
    },
    {
     "data": {
      "text/html": [
       "<pre style=\"white-space:pre;overflow-x:auto;line-height:normal;font-family:Menlo,'DejaVu Sans Mono',consolas,'Courier New',monospace\"><span style=\"font-weight: bold\">Summary of differences against `prod`:</span>\n",
       "</pre>\n"
      ],
      "text/plain": [
       "\u001b[1mSummary of differences against `prod`:\u001b[0m\n"
      ]
     },
     "metadata": {},
     "output_type": "display_data"
    },
    {
     "data": {
      "text/html": [
       "<pre style=\"white-space:pre;overflow-x:auto;line-height:normal;font-family:Menlo,'DejaVu Sans Mono',consolas,'Courier New',monospace\"><span style=\"font-weight: bold\">Models:</span>\n",
       "└── <span style=\"color: #008000; text-decoration-color: #008000; font-weight: bold\">Added:</span>\n",
       "    ├── <span style=\"color: #008000; text-decoration-color: #008000\">sqlmesh_example.full_model</span>\n",
       "    ├── <span style=\"color: #008000; text-decoration-color: #008000\">sqlmesh_example.seed_model</span>\n",
       "    └── <span style=\"color: #008000; text-decoration-color: #008000\">sqlmesh_example.incremental_model</span>\n",
       "</pre>\n"
      ],
      "text/plain": [
       "\u001b[1mModels:\u001b[0m\n",
       "└── \u001b[1;32mAdded:\u001b[0m\n",
       "    ├── \u001b[32msqlmesh_example.full_model\u001b[0m\n",
       "    ├── \u001b[32msqlmesh_example.seed_model\u001b[0m\n",
       "    └── \u001b[32msqlmesh_example.incremental_model\u001b[0m\n"
      ]
     },
     "metadata": {},
     "output_type": "display_data"
    },
    {
     "data": {
      "application/vnd.jupyter.widget-view+json": {
       "model_id": "cced5193c9aa4523b0dcfde3d29a3d04",
       "version_major": 2,
       "version_minor": 0
      },
      "text/plain": [
       "VBox()"
      ]
     },
     "metadata": {},
     "output_type": "display_data"
    }
   ],
   "source": [
    "%plan"
   ]
  },
  {
   "cell_type": "code",
   "execution_count": 7,
   "metadata": {},
   "outputs": [
    {
     "data": {
      "text/html": [
       "<div>\n",
       "<style scoped>\n",
       "    .dataframe tbody tr th:only-of-type {\n",
       "        vertical-align: middle;\n",
       "    }\n",
       "\n",
       "    .dataframe tbody tr th {\n",
       "        vertical-align: top;\n",
       "    }\n",
       "\n",
       "    .dataframe thead th {\n",
       "        text-align: right;\n",
       "    }\n",
       "</style>\n",
       "<table border=\"1\" class=\"dataframe\">\n",
       "  <thead>\n",
       "    <tr style=\"text-align: right;\">\n",
       "      <th></th>\n",
       "      <th>id</th>\n",
       "      <th>item_id</th>\n",
       "      <th>event_date</th>\n",
       "    </tr>\n",
       "  </thead>\n",
       "  <tbody>\n",
       "    <tr>\n",
       "      <th>0</th>\n",
       "      <td>1</td>\n",
       "      <td>2</td>\n",
       "      <td>2020-01-01</td>\n",
       "    </tr>\n",
       "    <tr>\n",
       "      <th>1</th>\n",
       "      <td>2</td>\n",
       "      <td>1</td>\n",
       "      <td>2020-01-01</td>\n",
       "    </tr>\n",
       "    <tr>\n",
       "      <th>2</th>\n",
       "      <td>3</td>\n",
       "      <td>3</td>\n",
       "      <td>2020-01-03</td>\n",
       "    </tr>\n",
       "    <tr>\n",
       "      <th>3</th>\n",
       "      <td>4</td>\n",
       "      <td>1</td>\n",
       "      <td>2020-01-04</td>\n",
       "    </tr>\n",
       "    <tr>\n",
       "      <th>4</th>\n",
       "      <td>5</td>\n",
       "      <td>1</td>\n",
       "      <td>2020-01-05</td>\n",
       "    </tr>\n",
       "    <tr>\n",
       "      <th>5</th>\n",
       "      <td>6</td>\n",
       "      <td>1</td>\n",
       "      <td>2020-01-06</td>\n",
       "    </tr>\n",
       "    <tr>\n",
       "      <th>6</th>\n",
       "      <td>7</td>\n",
       "      <td>1</td>\n",
       "      <td>2020-01-07</td>\n",
       "    </tr>\n",
       "  </tbody>\n",
       "</table>\n",
       "</div>"
      ],
      "text/plain": [
       "   id  item_id event_date\n",
       "0   1        2 2020-01-01\n",
       "1   2        1 2020-01-01\n",
       "2   3        3 2020-01-03\n",
       "3   4        1 2020-01-04\n",
       "4   5        1 2020-01-05\n",
       "5   6        1 2020-01-06\n",
       "6   7        1 2020-01-07"
      ]
     },
     "metadata": {},
     "output_type": "display_data"
    }
   ],
   "source": [
    "%%fetchdf\n",
    "\n",
    "select * from sqlmesh_example.incremental_model"
   ]
  },
  {
   "cell_type": "code",
   "execution_count": 8,
   "metadata": {},
   "outputs": [
    {
     "data": {
      "text/html": [
       "<div>\n",
       "<style scoped>\n",
       "    .dataframe tbody tr th:only-of-type {\n",
       "        vertical-align: middle;\n",
       "    }\n",
       "\n",
       "    .dataframe tbody tr th {\n",
       "        vertical-align: top;\n",
       "    }\n",
       "\n",
       "    .dataframe thead th {\n",
       "        text-align: right;\n",
       "    }\n",
       "</style>\n",
       "<table border=\"1\" class=\"dataframe\">\n",
       "  <thead>\n",
       "    <tr style=\"text-align: right;\">\n",
       "      <th></th>\n",
       "      <th>database</th>\n",
       "      <th>schema</th>\n",
       "      <th>name</th>\n",
       "      <th>column_names</th>\n",
       "      <th>column_types</th>\n",
       "      <th>temporary</th>\n",
       "    </tr>\n",
       "  </thead>\n",
       "  <tbody>\n",
       "    <tr>\n",
       "      <th>0</th>\n",
       "      <td>db</td>\n",
       "      <td>sqlmesh</td>\n",
       "      <td>_environments</td>\n",
       "      <td>[name, snapshots, start_at, end_at, plan_id, p...</td>\n",
       "      <td>[VARCHAR, VARCHAR, VARCHAR, VARCHAR, VARCHAR, ...</td>\n",
       "      <td>False</td>\n",
       "    </tr>\n",
       "    <tr>\n",
       "      <th>1</th>\n",
       "      <td>db</td>\n",
       "      <td>sqlmesh</td>\n",
       "      <td>_intervals</td>\n",
       "      <td>[id, created_ts, name, identifier, version, st...</td>\n",
       "      <td>[VARCHAR, BIGINT, VARCHAR, VARCHAR, VARCHAR, B...</td>\n",
       "      <td>False</td>\n",
       "    </tr>\n",
       "    <tr>\n",
       "      <th>2</th>\n",
       "      <td>db</td>\n",
       "      <td>sqlmesh</td>\n",
       "      <td>_plan_dags</td>\n",
       "      <td>[request_id, dag_id, dag_spec]</td>\n",
       "      <td>[VARCHAR, VARCHAR, VARCHAR]</td>\n",
       "      <td>False</td>\n",
       "    </tr>\n",
       "    <tr>\n",
       "      <th>3</th>\n",
       "      <td>db</td>\n",
       "      <td>sqlmesh</td>\n",
       "      <td>_seeds</td>\n",
       "      <td>[name, version, content]</td>\n",
       "      <td>[VARCHAR, VARCHAR, VARCHAR]</td>\n",
       "      <td>False</td>\n",
       "    </tr>\n",
       "    <tr>\n",
       "      <th>4</th>\n",
       "      <td>db</td>\n",
       "      <td>sqlmesh</td>\n",
       "      <td>_snapshots</td>\n",
       "      <td>[name, identifier, version, snapshot, kind_nam...</td>\n",
       "      <td>[VARCHAR, VARCHAR, VARCHAR, VARCHAR, VARCHAR, ...</td>\n",
       "      <td>False</td>\n",
       "    </tr>\n",
       "    <tr>\n",
       "      <th>5</th>\n",
       "      <td>db</td>\n",
       "      <td>sqlmesh</td>\n",
       "      <td>_versions</td>\n",
       "      <td>[schema_version, sqlglot_version, sqlmesh_vers...</td>\n",
       "      <td>[INTEGER, VARCHAR, VARCHAR]</td>\n",
       "      <td>False</td>\n",
       "    </tr>\n",
       "    <tr>\n",
       "      <th>6</th>\n",
       "      <td>db</td>\n",
       "      <td>sqlmesh__sqlmesh_example</td>\n",
       "      <td>sqlmesh_example__full_model__3031530868</td>\n",
       "      <td>[item_id, num_orders]</td>\n",
       "      <td>[INTEGER, BIGINT]</td>\n",
       "      <td>False</td>\n",
       "    </tr>\n",
       "    <tr>\n",
       "      <th>7</th>\n",
       "      <td>db</td>\n",
       "      <td>sqlmesh__sqlmesh_example</td>\n",
       "      <td>sqlmesh_example__full_model__3031530868__temp</td>\n",
       "      <td>[item_id, num_orders]</td>\n",
       "      <td>[INTEGER, BIGINT]</td>\n",
       "      <td>False</td>\n",
       "    </tr>\n",
       "    <tr>\n",
       "      <th>8</th>\n",
       "      <td>db</td>\n",
       "      <td>sqlmesh__sqlmesh_example</td>\n",
       "      <td>sqlmesh_example__incremental_model__141311533</td>\n",
       "      <td>[id, item_id, event_date]</td>\n",
       "      <td>[INTEGER, INTEGER, DATE]</td>\n",
       "      <td>False</td>\n",
       "    </tr>\n",
       "    <tr>\n",
       "      <th>9</th>\n",
       "      <td>db</td>\n",
       "      <td>sqlmesh__sqlmesh_example</td>\n",
       "      <td>sqlmesh_example__incremental_model__141311533_...</td>\n",
       "      <td>[id, item_id, event_date]</td>\n",
       "      <td>[INTEGER, INTEGER, DATE]</td>\n",
       "      <td>False</td>\n",
       "    </tr>\n",
       "    <tr>\n",
       "      <th>10</th>\n",
       "      <td>db</td>\n",
       "      <td>sqlmesh__sqlmesh_example</td>\n",
       "      <td>sqlmesh_example__seed_model__1248844913</td>\n",
       "      <td>[id, item_id, event_date]</td>\n",
       "      <td>[INTEGER, INTEGER, DATE]</td>\n",
       "      <td>False</td>\n",
       "    </tr>\n",
       "    <tr>\n",
       "      <th>11</th>\n",
       "      <td>db</td>\n",
       "      <td>sqlmesh__sqlmesh_example</td>\n",
       "      <td>sqlmesh_example__seed_model__1248844913__temp</td>\n",
       "      <td>[id, item_id, event_date]</td>\n",
       "      <td>[INTEGER, INTEGER, DATE]</td>\n",
       "      <td>False</td>\n",
       "    </tr>\n",
       "    <tr>\n",
       "      <th>12</th>\n",
       "      <td>db</td>\n",
       "      <td>sqlmesh_example</td>\n",
       "      <td>full_model</td>\n",
       "      <td>[item_id, num_orders]</td>\n",
       "      <td>[INTEGER, BIGINT]</td>\n",
       "      <td>False</td>\n",
       "    </tr>\n",
       "    <tr>\n",
       "      <th>13</th>\n",
       "      <td>db</td>\n",
       "      <td>sqlmesh_example</td>\n",
       "      <td>incremental_model</td>\n",
       "      <td>[id, item_id, event_date]</td>\n",
       "      <td>[INTEGER, INTEGER, DATE]</td>\n",
       "      <td>False</td>\n",
       "    </tr>\n",
       "    <tr>\n",
       "      <th>14</th>\n",
       "      <td>db</td>\n",
       "      <td>sqlmesh_example</td>\n",
       "      <td>seed_model</td>\n",
       "      <td>[id, item_id, event_date]</td>\n",
       "      <td>[INTEGER, INTEGER, DATE]</td>\n",
       "      <td>False</td>\n",
       "    </tr>\n",
       "  </tbody>\n",
       "</table>\n",
       "</div>"
      ],
      "text/plain": [
       "   database                    schema  \\\n",
       "0        db                   sqlmesh   \n",
       "1        db                   sqlmesh   \n",
       "2        db                   sqlmesh   \n",
       "3        db                   sqlmesh   \n",
       "4        db                   sqlmesh   \n",
       "5        db                   sqlmesh   \n",
       "6        db  sqlmesh__sqlmesh_example   \n",
       "7        db  sqlmesh__sqlmesh_example   \n",
       "8        db  sqlmesh__sqlmesh_example   \n",
       "9        db  sqlmesh__sqlmesh_example   \n",
       "10       db  sqlmesh__sqlmesh_example   \n",
       "11       db  sqlmesh__sqlmesh_example   \n",
       "12       db           sqlmesh_example   \n",
       "13       db           sqlmesh_example   \n",
       "14       db           sqlmesh_example   \n",
       "\n",
       "                                                 name  \\\n",
       "0                                       _environments   \n",
       "1                                          _intervals   \n",
       "2                                          _plan_dags   \n",
       "3                                              _seeds   \n",
       "4                                          _snapshots   \n",
       "5                                           _versions   \n",
       "6             sqlmesh_example__full_model__3031530868   \n",
       "7       sqlmesh_example__full_model__3031530868__temp   \n",
       "8       sqlmesh_example__incremental_model__141311533   \n",
       "9   sqlmesh_example__incremental_model__141311533_...   \n",
       "10            sqlmesh_example__seed_model__1248844913   \n",
       "11      sqlmesh_example__seed_model__1248844913__temp   \n",
       "12                                         full_model   \n",
       "13                                  incremental_model   \n",
       "14                                         seed_model   \n",
       "\n",
       "                                         column_names  \\\n",
       "0   [name, snapshots, start_at, end_at, plan_id, p...   \n",
       "1   [id, created_ts, name, identifier, version, st...   \n",
       "2                      [request_id, dag_id, dag_spec]   \n",
       "3                            [name, version, content]   \n",
       "4   [name, identifier, version, snapshot, kind_nam...   \n",
       "5   [schema_version, sqlglot_version, sqlmesh_vers...   \n",
       "6                               [item_id, num_orders]   \n",
       "7                               [item_id, num_orders]   \n",
       "8                           [id, item_id, event_date]   \n",
       "9                           [id, item_id, event_date]   \n",
       "10                          [id, item_id, event_date]   \n",
       "11                          [id, item_id, event_date]   \n",
       "12                              [item_id, num_orders]   \n",
       "13                          [id, item_id, event_date]   \n",
       "14                          [id, item_id, event_date]   \n",
       "\n",
       "                                         column_types  temporary  \n",
       "0   [VARCHAR, VARCHAR, VARCHAR, VARCHAR, VARCHAR, ...      False  \n",
       "1   [VARCHAR, BIGINT, VARCHAR, VARCHAR, VARCHAR, B...      False  \n",
       "2                         [VARCHAR, VARCHAR, VARCHAR]      False  \n",
       "3                         [VARCHAR, VARCHAR, VARCHAR]      False  \n",
       "4   [VARCHAR, VARCHAR, VARCHAR, VARCHAR, VARCHAR, ...      False  \n",
       "5                         [INTEGER, VARCHAR, VARCHAR]      False  \n",
       "6                                   [INTEGER, BIGINT]      False  \n",
       "7                                   [INTEGER, BIGINT]      False  \n",
       "8                            [INTEGER, INTEGER, DATE]      False  \n",
       "9                            [INTEGER, INTEGER, DATE]      False  \n",
       "10                           [INTEGER, INTEGER, DATE]      False  \n",
       "11                           [INTEGER, INTEGER, DATE]      False  \n",
       "12                                  [INTEGER, BIGINT]      False  \n",
       "13                           [INTEGER, INTEGER, DATE]      False  \n",
       "14                           [INTEGER, INTEGER, DATE]      False  "
      ]
     },
     "metadata": {},
     "output_type": "display_data"
    }
   ],
   "source": [
    "%%fetchdf\n",
    "\n",
    "SHOW ALL TABLES;"
   ]
  },
  {
   "cell_type": "code",
   "execution_count": 9,
   "metadata": {},
   "outputs": [
    {
     "data": {
      "text/html": [
       "<div>\n",
       "<style scoped>\n",
       "    .dataframe tbody tr th:only-of-type {\n",
       "        vertical-align: middle;\n",
       "    }\n",
       "\n",
       "    .dataframe tbody tr th {\n",
       "        vertical-align: top;\n",
       "    }\n",
       "\n",
       "    .dataframe thead th {\n",
       "        text-align: right;\n",
       "    }\n",
       "</style>\n",
       "<table border=\"1\" class=\"dataframe\">\n",
       "  <thead>\n",
       "    <tr style=\"text-align: right;\">\n",
       "      <th></th>\n",
       "      <th>name</th>\n",
       "      <th>snapshots</th>\n",
       "      <th>start_at</th>\n",
       "      <th>end_at</th>\n",
       "      <th>plan_id</th>\n",
       "      <th>previous_plan_id</th>\n",
       "      <th>expiration_ts</th>\n",
       "      <th>finalized_ts</th>\n",
       "      <th>promoted_snapshot_ids</th>\n",
       "      <th>suffix_target</th>\n",
       "      <th>catalog_name_override</th>\n",
       "      <th>previous_finalized_snapshots</th>\n",
       "    </tr>\n",
       "  </thead>\n",
       "  <tbody>\n",
       "    <tr>\n",
       "      <th>0</th>\n",
       "      <td>prod</td>\n",
       "      <td>[{\"name\": \"\\\"db\\\".\\\"sqlmesh_example\\\".\\\"seed_m...</td>\n",
       "      <td>2020-01-01 00:00:00</td>\n",
       "      <td>None</td>\n",
       "      <td>4c91ecc1c07a4a609b63134f76780cbd</td>\n",
       "      <td>None</td>\n",
       "      <td>NaN</td>\n",
       "      <td>1714649498516</td>\n",
       "      <td>None</td>\n",
       "      <td>schema</td>\n",
       "      <td>None</td>\n",
       "      <td>[]</td>\n",
       "    </tr>\n",
       "  </tbody>\n",
       "</table>\n",
       "</div>"
      ],
      "text/plain": [
       "   name                                          snapshots  \\\n",
       "0  prod  [{\"name\": \"\\\"db\\\".\\\"sqlmesh_example\\\".\\\"seed_m...   \n",
       "\n",
       "              start_at end_at                           plan_id  \\\n",
       "0  2020-01-01 00:00:00   None  4c91ecc1c07a4a609b63134f76780cbd   \n",
       "\n",
       "  previous_plan_id  expiration_ts   finalized_ts promoted_snapshot_ids  \\\n",
       "0             None            NaN  1714649498516                  None   \n",
       "\n",
       "  suffix_target catalog_name_override previous_finalized_snapshots  \n",
       "0        schema                  None                           []  "
      ]
     },
     "metadata": {},
     "output_type": "display_data"
    }
   ],
   "source": [
    "%%fetchdf\n",
    "\n",
    "select * from sqlmesh.\"_environments\";"
   ]
  },
  {
   "cell_type": "markdown",
   "metadata": {},
   "source": [
    "# Update seed data"
   ]
  },
  {
   "cell_type": "code",
   "execution_count": null,
   "metadata": {},
   "outputs": [],
   "source": [
    "%plan"
   ]
  },
  {
   "cell_type": "code",
   "execution_count": null,
   "metadata": {},
   "outputs": [],
   "source": [
    "%%fetchdf\n",
    "\n",
    "select * from sqlmesh_example.incremental_model"
   ]
  },
  {
   "cell_type": "markdown",
   "metadata": {},
   "source": [
    "# Add Python Models\n",
    "\n",
    "Copy the two python models into the model folder and refresh the notebook."
   ]
  },
  {
   "cell_type": "code",
   "execution_count": 9,
   "metadata": {},
   "outputs": [
    {
     "data": {
      "text/html": [
       "<div>\n",
       "  <div id=\"sqlglot-lineage\"></div>\n",
       "  <script type=\"text/javascript\" src=\"https://unpkg.com/vis-data@latest/peer/umd/vis-data.min.js\"></script>\n",
       "  <script type=\"text/javascript\" src=\"https://unpkg.com/vis-network@latest/peer/umd/vis-network.min.js\"></script>\n",
       "  <link rel=\"stylesheet\" type=\"text/css\" href=\"https://unpkg.com/vis-network/styles/vis-network.min.css\" />\n",
       "  <script type=\"text/javascript\">\n",
       "    var nodes = new vis.DataSet([{\"id\": \"\\\"db\\\".\\\"sqlmesh_example\\\".\\\"seed_model\\\"\", \"label\": \"\\\"seed_model\\\"\", \"title\": \"<span>\\\"db\\\".\\\"sqlmesh_example\\\".\\\"seed_model\\\"</span>\"}, {\"id\": \"\\\"db\\\".\\\"sqlmesh_example\\\".\\\"full_model\\\"\", \"label\": \"\\\"full_model\\\"\", \"title\": \"<span>\\\"db\\\".\\\"sqlmesh_example\\\".\\\"full_model\\\"</span>\"}, {\"id\": \"\\\"db\\\".\\\"sqlmesh_example\\\".\\\"incremental_model\\\"\", \"label\": \"\\\"incremental_model\\\"\", \"title\": \"<span>\\\"db\\\".\\\"sqlmesh_example\\\".\\\"incremental_model\\\"</span>\"}, {\"id\": \"\\\"db\\\".\\\"sqlmesh_example\\\".\\\"from_python\\\"\", \"label\": \"\\\"from_python\\\"\", \"title\": \"<span>\\\"db\\\".\\\"sqlmesh_example\\\".\\\"from_python\\\"</span>\"}, {\"id\": \"\\\"db\\\".\\\"sqlmesh_example\\\".\\\"from_sql\\\"\", \"label\": \"\\\"from_sql\\\"\", \"title\": \"<span>\\\"db\\\".\\\"sqlmesh_example\\\".\\\"from_sql\\\"</span>\"}])\n",
       "    nodes.forEach(row => row[\"title\"] = new DOMParser().parseFromString(row[\"title\"], \"text/html\").body.childNodes[0])\n",
       "\n",
       "    new vis.Network(\n",
       "        document.getElementById(\"sqlglot-lineage\"),\n",
       "        {\n",
       "            nodes: nodes,\n",
       "            edges: new vis.DataSet([{\"from\": \"\\\"db\\\".\\\"sqlmesh_example\\\".\\\"incremental_model\\\"\", \"to\": \"\\\"db\\\".\\\"sqlmesh_example\\\".\\\"full_model\\\"\"}, {\"from\": \"\\\"db\\\".\\\"sqlmesh_example\\\".\\\"seed_model\\\"\", \"to\": \"\\\"db\\\".\\\"sqlmesh_example\\\".\\\"incremental_model\\\"\"}, {\"from\": \"\\\"db\\\".\\\"sqlmesh_example\\\".\\\"from_sql\\\"\", \"to\": \"\\\"db\\\".\\\"sqlmesh_example\\\".\\\"from_python\\\"\"}, {\"from\": \"\\\"db\\\".\\\"sqlmesh_example\\\".\\\"seed_model\\\"\", \"to\": \"\\\"db\\\".\\\"sqlmesh_example\\\".\\\"from_sql\\\"\"}])\n",
       "        },\n",
       "        {\"height\": \"100%\", \"width\": \"100%\", \"layout\": {\"hierarchical\": {\"enabled\": true, \"nodeSpacing\": 200, \"sortMethod\": \"directed\"}}, \"interaction\": {}, \"physics\": {\"enabled\": false}, \"edges\": {\"arrows\": \"to\"}, \"nodes\": {\"shape\": \"box\"}},\n",
       "    )\n",
       "  </script>\n",
       "</div>"
      ],
      "text/plain": [
       "<sqlglot.lineage.GraphHTML at 0x162824250>"
      ]
     },
     "metadata": {},
     "output_type": "display_data"
    }
   ],
   "source": [
    "%dag --file new_dag.html"
   ]
  },
  {
   "cell_type": "code",
   "execution_count": 11,
   "metadata": {},
   "outputs": [
    {
     "data": {
      "application/vnd.jupyter.widget-view+json": {
       "model_id": "713e7f08c5044e9a899a976a447da7eb",
       "version_major": 2,
       "version_minor": 0
      },
      "text/plain": [
       "HTML(value='<span style=\"font-size: 11px; font-weight: bold; font-family: Menlo,\\'DejaVu Sans Mono\\',consolas,…"
      ]
     },
     "metadata": {},
     "output_type": "display_data"
    },
    {
     "data": {
      "text/html": [
       "<pre style=\"white-space:pre;overflow-x:auto;line-height:normal;font-family:Menlo,'DejaVu Sans Mono',consolas,'Courier New',monospace\"><span style=\"font-weight: bold\">Summary of differences against `prod`:</span>\n",
       "</pre>\n"
      ],
      "text/plain": [
       "\u001b[1mSummary of differences against `prod`:\u001b[0m\n"
      ]
     },
     "metadata": {},
     "output_type": "display_data"
    },
    {
     "data": {
      "text/html": [
       "<pre style=\"white-space:pre;overflow-x:auto;line-height:normal;font-family:Menlo,'DejaVu Sans Mono',consolas,'Courier New',monospace\"><span style=\"font-weight: bold\">Models:</span>\n",
       "└── <span style=\"color: #008000; text-decoration-color: #008000; font-weight: bold\">Added:</span>\n",
       "    ├── <span style=\"color: #008000; text-decoration-color: #008000\">sqlmesh_example.from_sql</span>\n",
       "    └── <span style=\"color: #008000; text-decoration-color: #008000\">sqlmesh_example.from_python</span>\n",
       "</pre>\n"
      ],
      "text/plain": [
       "\u001b[1mModels:\u001b[0m\n",
       "└── \u001b[1;32mAdded:\u001b[0m\n",
       "    ├── \u001b[32msqlmesh_example.from_sql\u001b[0m\n",
       "    └── \u001b[32msqlmesh_example.from_python\u001b[0m\n"
      ]
     },
     "metadata": {},
     "output_type": "display_data"
    },
    {
     "data": {
      "application/vnd.jupyter.widget-view+json": {
       "model_id": "6c0893c15a634e35805566c50981a84c",
       "version_major": 2,
       "version_minor": 0
      },
      "text/plain": [
       "VBox()"
      ]
     },
     "metadata": {},
     "output_type": "display_data"
    }
   ],
   "source": [
    "%plan"
   ]
  },
  {
   "cell_type": "code",
   "execution_count": null,
   "metadata": {},
   "outputs": [],
   "source": [
    "%%fetchdf\n",
    "\n",
    "select * from sqlmesh_example.from_sql"
   ]
  },
  {
   "cell_type": "code",
   "execution_count": null,
   "metadata": {},
   "outputs": [],
   "source": [
    "%%fetchdf\n",
    "\n",
    "select * from sqlmesh_example.from_python"
   ]
  },
  {
   "cell_type": "code",
   "execution_count": null,
   "metadata": {},
   "outputs": [],
   "source": []
  }
 ],
 "metadata": {
  "kernelspec": {
   "display_name": "Python 3 (ipykernel)",
   "language": "python",
   "name": "python3"
  },
  "language_info": {
   "codemirror_mode": {
    "name": "ipython",
    "version": 3
   },
   "file_extension": ".py",
   "mimetype": "text/x-python",
   "name": "python",
   "nbconvert_exporter": "python",
   "pygments_lexer": "ipython3",
   "version": "3.11.2"
  }
 },
 "nbformat": 4,
 "nbformat_minor": 4
}
